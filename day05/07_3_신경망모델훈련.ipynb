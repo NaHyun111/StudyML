{
 "cells": [
  {
   "cell_type": "markdown",
   "metadata": {},
   "source": [
    "### 사전준비"
   ]
  },
  {
   "cell_type": "code",
   "execution_count": 1,
   "metadata": {},
   "outputs": [],
   "source": [
    "# 기본 패키지 import\n",
    "import numpy as np\n",
    "import pandas as pd\n",
    "import scipy as sp\n",
    "\n",
    "import matplotlib as mpl\n",
    "import matplotlib.pyplot as plt\n",
    "import seaborn as sns"
   ]
  },
  {
   "cell_type": "code",
   "execution_count": 2,
   "metadata": {},
   "outputs": [],
   "source": [
    "# 한글 설정/차트 마이너스 깨짐현상 해결 / seaborn으로 화면설정\n",
    "from matplotlib import rc\n",
    "import matplotlib.font_manager as fm\n",
    "\n",
    "plt.rc('font', family='Malgun Gothic')\n",
    "sns.set(font='Malgun Gothic', rc={'axes.unicode_minus':False}, style='darkgrid')"
   ]
  },
  {
   "cell_type": "markdown",
   "metadata": {},
   "source": [
    "### 패션MNIST 데이터\n",
    "\n",
    "#### 데이터 로드"
   ]
  },
  {
   "cell_type": "code",
   "execution_count": 3,
   "metadata": {},
   "outputs": [],
   "source": [
    "from tensorflow import keras\n",
    "from tensorflow.keras.datasets.fashion_mnist import load_data\n",
    "from sklearn.model_selection import train_test_split"
   ]
  },
  {
   "cell_type": "code",
   "execution_count": 4,
   "metadata": {},
   "outputs": [],
   "source": [
    "(train_input, train_target), (test_input, test_target) = load_data()"
   ]
  },
  {
   "cell_type": "markdown",
   "metadata": {},
   "source": [
    "#### 정규화"
   ]
  },
  {
   "cell_type": "code",
   "execution_count": 5,
   "metadata": {},
   "outputs": [
    {
     "name": "stdout",
     "output_type": "stream",
     "text": [
      "(60000, 28, 28) (60000,)\n",
      "(10000, 28, 28) (10000,)\n"
     ]
    }
   ],
   "source": [
    "print(train_input.shape, train_target.shape)\n",
    "print(test_input.shape, test_target.shape)"
   ]
  },
  {
   "cell_type": "code",
   "execution_count": 6,
   "metadata": {},
   "outputs": [],
   "source": [
    "train_scaled = train_input / 225.0  # 0에서 1사이 실수값으로 변경"
   ]
  },
  {
   "cell_type": "code",
   "execution_count": 7,
   "metadata": {},
   "outputs": [],
   "source": [
    "train_scaled, val_scaled, train_target, val_target = train_test_split(train_scaled, train_target, test_size=0.2, random_state=42)"
   ]
  },
  {
   "cell_type": "code",
   "execution_count": 8,
   "metadata": {},
   "outputs": [
    {
     "data": {
      "text/plain": [
       "(48000, 28, 28)"
      ]
     },
     "execution_count": 8,
     "metadata": {},
     "output_type": "execute_result"
    }
   ],
   "source": [
    "train_scaled.shape"
   ]
  },
  {
   "cell_type": "code",
   "execution_count": 16,
   "metadata": {},
   "outputs": [
    {
     "name": "stdout",
     "output_type": "stream",
     "text": [
      "(48000, 28, 28) (48000,)\n",
      "(12000, 28, 28) (12000,)\n"
     ]
    }
   ],
   "source": [
    "print(train_scaled.shape, train_target.shape)\n",
    "print(val_scaled.shape, val_target.shape)"
   ]
  },
  {
   "cell_type": "markdown",
   "metadata": {},
   "source": [
    "#### 모델생성 함수"
   ]
  },
  {
   "cell_type": "code",
   "execution_count": 16,
   "metadata": {},
   "outputs": [],
   "source": [
    "def model_fn(a_layer=None):\n",
    "    model = keras.Sequential(name='model_fn_MakeModel')\n",
    "    model.add(keras.layers.Flatten(input_shape=(28,28)))  # 2차원 입력값을 1차원으로 변경\n",
    "    model.add(keras.layers.Dense(100, activation='relu', name='hidden'))\n",
    "\n",
    "    if a_layer:  # a_layer가 none이 아니면\n",
    "        model.add(a_layer)  # a_layer에 모델을 추가해라\n",
    "\n",
    "    model.add(keras.layers.Dense(10, activation='softmax', name='output'))\n",
    "\n",
    "    return model"
   ]
  },
  {
   "cell_type": "code",
   "execution_count": 17,
   "metadata": {},
   "outputs": [
    {
     "name": "stdout",
     "output_type": "stream",
     "text": [
      "Model: \"model_fn_MakeModel\"\n",
      "_________________________________________________________________\n",
      " Layer (type)                Output Shape              Param #   \n",
      "=================================================================\n",
      " flatten_4 (Flatten)         (None, 784)               0         \n",
      "                                                                 \n",
      " hidden (Dense)              (None, 100)               78500     \n",
      "                                                                 \n",
      " hidden2 (Dense)             (None, 100)               10100     \n",
      "                                                                 \n",
      " output (Dense)              (None, 10)                1010      \n",
      "                                                                 \n",
      "=================================================================\n",
      "Total params: 89,610\n",
      "Trainable params: 89,610\n",
      "Non-trainable params: 0\n",
      "_________________________________________________________________\n"
     ]
    }
   ],
   "source": [
    "# 함수 사용예\n",
    "model = model_fn(keras.layers.Dense(100, activation='relu', name='hidden2'))\n",
    "model.summary()"
   ]
  },
  {
   "cell_type": "markdown",
   "metadata": {},
   "source": [
    "#### 손실곡선, 정확도"
   ]
  },
  {
   "cell_type": "code",
   "execution_count": 23,
   "metadata": {},
   "outputs": [
    {
     "name": "stdout",
     "output_type": "stream",
     "text": [
      "Model: \"model_fn_MakeModel\"\n",
      "_________________________________________________________________\n",
      " Layer (type)                Output Shape              Param #   \n",
      "=================================================================\n",
      " flatten_6 (Flatten)         (None, 784)               0         \n",
      "                                                                 \n",
      " hidden (Dense)              (None, 100)               78500     \n",
      "                                                                 \n",
      " output (Dense)              (None, 10)                1010      \n",
      "                                                                 \n",
      "=================================================================\n",
      "Total params: 79,510\n",
      "Trainable params: 79,510\n",
      "Non-trainable params: 0\n",
      "_________________________________________________________________\n"
     ]
    }
   ],
   "source": [
    "# 함수 사용예\n",
    "model = model_fn()\n",
    "model.summary()"
   ]
  },
  {
   "cell_type": "code",
   "execution_count": 24,
   "metadata": {},
   "outputs": [
    {
     "name": "stdout",
     "output_type": "stream",
     "text": [
      "Epoch 1/5\n",
      "1500/1500 - 2s - loss: 0.5298 - accuracy: 0.8107 - 2s/epoch - 1ms/step\n",
      "Epoch 2/5\n",
      "1500/1500 - 2s - loss: 0.3896 - accuracy: 0.8606 - 2s/epoch - 1ms/step\n",
      "Epoch 3/5\n",
      "1500/1500 - 2s - loss: 0.3543 - accuracy: 0.8714 - 2s/epoch - 1ms/step\n",
      "Epoch 4/5\n",
      "1500/1500 - 2s - loss: 0.3375 - accuracy: 0.8791 - 2s/epoch - 1ms/step\n",
      "Epoch 5/5\n",
      "1500/1500 - 2s - loss: 0.3196 - accuracy: 0.8862 - 2s/epoch - 1ms/step\n"
     ]
    }
   ],
   "source": [
    "model.compile(loss='sparse_categorical_crossentropy', metrics='accuracy')\n",
    "history = model.fit(train_scaled, train_target, epochs=5, verbose=2)"
   ]
  },
  {
   "cell_type": "code",
   "execution_count": 25,
   "metadata": {},
   "outputs": [
    {
     "data": {
      "text/plain": [
       "{'loss': [0.529822826385498,\n",
       "  0.389627069234848,\n",
       "  0.3543490469455719,\n",
       "  0.33748841285705566,\n",
       "  0.3195909559726715],\n",
       " 'accuracy': [0.8106874823570251,\n",
       "  0.8605833053588867,\n",
       "  0.8713750243186951,\n",
       "  0.8790624737739563,\n",
       "  0.8862083554267883]}"
      ]
     },
     "execution_count": 25,
     "metadata": {},
     "output_type": "execute_result"
    }
   ],
   "source": [
    "history.history"
   ]
  },
  {
   "cell_type": "markdown",
   "metadata": {},
   "source": [
    "#### 손실곡선 차트 (손실값이 어떻게 되어있는지 알수있음)"
   ]
  },
  {
   "cell_type": "code",
   "execution_count": 27,
   "metadata": {},
   "outputs": [
    {
     "data": {
      "image/png": "[encoded data removed]",
      "text/plain": [
       "<Figure size 720x360 with 1 Axes>"
      ]
     },
     "metadata": {
      "needs_background": "light"
     },
     "output_type": "display_data"
    }
   ],
   "source": [
    "plt.figure(figsize=(10,5))\n",
    "plt.plot(history.history['loss'])\n",
    "plt.title('손실곡선')\n",
    "plt.xlabel('에포크(훈련횟수)')\n",
    "plt.ylabel('손실값')\n",
    "plt.show()"
   ]
  },
  {
   "cell_type": "markdown",
   "metadata": {},
   "source": [
    "#### 정확도 차트"
   ]
  },
  {
   "cell_type": "code",
   "execution_count": 29,
   "metadata": {},
   "outputs": [
    {
     "data": {
      "image/png": "[encoded data removed]",
      "text/plain": [
       "<Figure size 720x360 with 1 Axes>"
      ]
     },
     "metadata": {
      "needs_background": "light"
     },
     "output_type": "display_data"
    }
   ],
   "source": [
    "plt.figure(figsize=(10,5))\n",
    "plt.plot(history.history['accuracy'])\n",
    "plt.title('정확도')\n",
    "plt.xlabel('에포크(훈련횟수)')\n",
    "plt.ylabel('정확도')\n",
    "plt.show()"
   ]
  },
  {
   "cell_type": "markdown",
   "metadata": {},
   "source": [
    "#### 에포크 20번으로 늘려서 훈련 "
   ]
  },
  {
   "cell_type": "code",
   "execution_count": 30,
   "metadata": {},
   "outputs": [
    {
     "name": "stdout",
     "output_type": "stream",
     "text": [
      "Epoch 1/20\n",
      "1500/1500 [==============================] - 3s 2ms/step - loss: 0.5327 - accuracy: 0.8132\n",
      "Epoch 2/20\n",
      "1500/1500 [==============================] - 3s 2ms/step - loss: 0.3894 - accuracy: 0.8604\n",
      "Epoch 3/20\n",
      "1500/1500 [==============================] - 3s 2ms/step - loss: 0.3543 - accuracy: 0.8735\n",
      "Epoch 4/20\n",
      "1500/1500 [==============================] - 3s 2ms/step - loss: 0.3322 - accuracy: 0.8805\n",
      "Epoch 5/20\n",
      "1500/1500 [==============================] - 3s 2ms/step - loss: 0.3194 - accuracy: 0.8871\n",
      "Epoch 6/20\n",
      "1500/1500 [==============================] - 3s 2ms/step - loss: 0.3086 - accuracy: 0.8925\n",
      "Epoch 7/20\n",
      "1500/1500 [==============================] - 3s 2ms/step - loss: 0.2991 - accuracy: 0.8955\n",
      "Epoch 8/20\n",
      "1500/1500 [==============================] - 3s 2ms/step - loss: 0.2913 - accuracy: 0.8989\n",
      "Epoch 9/20\n",
      "1500/1500 [==============================] - 3s 2ms/step - loss: 0.2836 - accuracy: 0.9017\n",
      "Epoch 10/20\n",
      "1500/1500 [==============================] - 3s 2ms/step - loss: 0.2788 - accuracy: 0.9036\n",
      "Epoch 11/20\n",
      "1500/1500 [==============================] - 4s 3ms/step - loss: 0.2734 - accuracy: 0.9047\n",
      "Epoch 12/20\n",
      "1500/1500 [==============================] - 4s 3ms/step - loss: 0.2686 - accuracy: 0.9074\n",
      "Epoch 13/20\n",
      "1500/1500 [==============================] - 4s 3ms/step - loss: 0.2642 - accuracy: 0.9095\n",
      "Epoch 14/20\n",
      "1500/1500 [==============================] - 4s 3ms/step - loss: 0.2600 - accuracy: 0.9105\n",
      "Epoch 15/20\n",
      "1500/1500 [==============================] - 4s 3ms/step - loss: 0.2512 - accuracy: 0.9145\n",
      "Epoch 16/20\n",
      "1500/1500 [==============================] - 4s 3ms/step - loss: 0.2497 - accuracy: 0.9146\n",
      "Epoch 17/20\n",
      "1500/1500 [==============================] - 4s 3ms/step - loss: 0.2466 - accuracy: 0.9171\n",
      "Epoch 18/20\n",
      "1500/1500 [==============================] - 4s 3ms/step - loss: 0.2444 - accuracy: 0.9178\n",
      "Epoch 19/20\n",
      "1500/1500 [==============================] - 4s 3ms/step - loss: 0.2397 - accuracy: 0.9196\n",
      "Epoch 20/20\n",
      "1500/1500 [==============================] - 4s 3ms/step - loss: 0.2321 - accuracy: 0.9210\n"
     ]
    }
   ],
   "source": [
    "model = model_fn()\n",
    "model.compile(loss='sparse_categorical_crossentropy', metrics='accuracy')\n",
    "history = model.fit(train_scaled, train_target, epochs=20)"
   ]
  },
  {
   "cell_type": "code",
   "execution_count": 31,
   "metadata": {},
   "outputs": [
    {
     "data": {
      "image/png": "[encoded data removed]",
      "text/plain": [
       "<Figure size 720x360 with 1 Axes>"
      ]
     },
     "metadata": {
      "needs_background": "light"
     },
     "output_type": "display_data"
    }
   ],
   "source": [
    "plt.figure(figsize=(10,5))\n",
    "plt.plot(history.history['loss'])\n",
    "plt.plot(history.history['accuracy'])\n",
    "# plt.title('정확도')\n",
    "plt.xlabel('에포크(훈련횟수)')\n",
    "plt.ylabel('val')\n",
    "plt.show()"
   ]
  },
  {
   "cell_type": "markdown",
   "metadata": {},
   "source": [
    "#### 검증손실\n",
    "\n",
    "훈련세트 훈련 => 정확도 92%"
   ]
  },
  {
   "cell_type": "code",
   "execution_count": 32,
   "metadata": {},
   "outputs": [
    {
     "name": "stdout",
     "output_type": "stream",
     "text": [
      "Epoch 1/20\n",
      "1500/1500 [==============================] - 4s 2ms/step - loss: 0.5310 - accuracy: 0.8104 - val_loss: 0.4189 - val_accuracy: 0.8518\n",
      "Epoch 2/20\n",
      "1500/1500 [==============================] - 4s 2ms/step - loss: 0.3915 - accuracy: 0.8602 - val_loss: 0.4106 - val_accuracy: 0.8565\n",
      "Epoch 3/20\n",
      "1500/1500 [==============================] - 4s 3ms/step - loss: 0.3568 - accuracy: 0.8724 - val_loss: 0.3847 - val_accuracy: 0.8637\n",
      "Epoch 4/20\n",
      "1500/1500 [==============================] - 4s 3ms/step - loss: 0.3364 - accuracy: 0.8794 - val_loss: 0.3683 - val_accuracy: 0.8705\n",
      "Epoch 5/20\n",
      "1500/1500 [==============================] - 4s 3ms/step - loss: 0.3217 - accuracy: 0.8864 - val_loss: 0.3843 - val_accuracy: 0.8718\n",
      "Epoch 6/20\n",
      "1500/1500 [==============================] - 5s 3ms/step - loss: 0.3133 - accuracy: 0.8885 - val_loss: 0.3673 - val_accuracy: 0.8792\n",
      "Epoch 7/20\n",
      "1500/1500 [==============================] - 4s 3ms/step - loss: 0.3005 - accuracy: 0.8934 - val_loss: 0.3951 - val_accuracy: 0.8765\n",
      "Epoch 8/20\n",
      "1500/1500 [==============================] - 4s 3ms/step - loss: 0.2946 - accuracy: 0.8976 - val_loss: 0.3800 - val_accuracy: 0.8774\n",
      "Epoch 9/20\n",
      "1500/1500 [==============================] - 4s 2ms/step - loss: 0.2876 - accuracy: 0.8987 - val_loss: 0.4105 - val_accuracy: 0.8767\n",
      "Epoch 10/20\n",
      "1500/1500 [==============================] - 4s 3ms/step - loss: 0.2830 - accuracy: 0.9013 - val_loss: 0.3870 - val_accuracy: 0.8811\n",
      "Epoch 11/20\n",
      "1500/1500 [==============================] - 4s 3ms/step - loss: 0.2752 - accuracy: 0.9056 - val_loss: 0.3922 - val_accuracy: 0.8792\n",
      "Epoch 12/20\n",
      "1500/1500 [==============================] - 4s 3ms/step - loss: 0.2684 - accuracy: 0.9070 - val_loss: 0.4212 - val_accuracy: 0.8823\n",
      "Epoch 13/20\n",
      "1500/1500 [==============================] - 4s 3ms/step - loss: 0.2630 - accuracy: 0.9081 - val_loss: 0.4239 - val_accuracy: 0.8726\n",
      "Epoch 14/20\n",
      "1500/1500 [==============================] - 5s 3ms/step - loss: 0.2601 - accuracy: 0.9103 - val_loss: 0.3780 - val_accuracy: 0.8835\n",
      "Epoch 15/20\n",
      "1500/1500 [==============================] - 4s 3ms/step - loss: 0.2519 - accuracy: 0.9110 - val_loss: 0.4456 - val_accuracy: 0.8723\n",
      "Epoch 16/20\n",
      "1500/1500 [==============================] - 4s 3ms/step - loss: 0.2511 - accuracy: 0.9145 - val_loss: 0.4140 - val_accuracy: 0.8809\n",
      "Epoch 17/20\n",
      "1500/1500 [==============================] - 4s 3ms/step - loss: 0.2438 - accuracy: 0.9162 - val_loss: 0.4591 - val_accuracy: 0.8767\n",
      "Epoch 18/20\n",
      "1500/1500 [==============================] - 4s 3ms/step - loss: 0.2410 - accuracy: 0.9177 - val_loss: 0.4879 - val_accuracy: 0.8763\n",
      "Epoch 19/20\n",
      "1500/1500 [==============================] - 4s 3ms/step - loss: 0.2384 - accuracy: 0.9192 - val_loss: 0.4612 - val_accuracy: 0.8825\n",
      "Epoch 20/20\n",
      "1500/1500 [==============================] - 4s 2ms/step - loss: 0.2292 - accuracy: 0.9220 - val_loss: 0.4611 - val_accuracy: 0.8745\n"
     ]
    }
   ],
   "source": [
    "model = model_fn()\n",
    "model.compile(loss='sparse_categorical_crossentropy', metrics='accuracy')\n",
    "history = model.fit(train_scaled, train_target, epochs=20, validation_data=(val_scaled, val_target))"
   ]
  },
  {
   "cell_type": "code",
   "execution_count": 33,
   "metadata": {},
   "outputs": [
    {
     "data": {
      "text/plain": [
       "dict_keys(['loss', 'accuracy', 'val_loss', 'val_accuracy'])"
      ]
     },
     "execution_count": 33,
     "metadata": {},
     "output_type": "execute_result"
    }
   ],
   "source": [
    "history.history.keys()"
   ]
  },
  {
   "cell_type": "markdown",
   "metadata": {},
   "source": [
    "#### 훈련세트 / 검증세트 비교"
   ]
  },
  {
   "cell_type": "code",
   "execution_count": 34,
   "metadata": {},
   "outputs": [
    {
     "data": {
      "image/png": "[encoded data removed]",
      "text/plain": [
       "<Figure size 720x360 with 1 Axes>"
      ]
     },
     "metadata": {
      "needs_background": "light"
     },
     "output_type": "display_data"
    }
   ],
   "source": [
    "plt.figure(figsize=(10,5))\n",
    "plt.plot(history.history['loss'])\n",
    "plt.plot(history.history['val_loss'])\n",
    "plt.title('손실곡선')\n",
    "plt.xlabel('에포크')\n",
    "plt.ylabel('손실값')\n",
    "plt.legend(['훈련', '검증'])\n",
    "plt.show()"
   ]
  },
  {
   "cell_type": "markdown",
   "metadata": {},
   "source": [
    "#### 드롭아웃"
   ]
  },
  {
   "cell_type": "code",
   "execution_count": 35,
   "metadata": {},
   "outputs": [
    {
     "name": "stdout",
     "output_type": "stream",
     "text": [
      "Model: \"model_fn_MakeModel\"\n",
      "_________________________________________________________________\n",
      " Layer (type)                Output Shape              Param #   \n",
      "=================================================================\n",
      " flatten_9 (Flatten)         (None, 784)               0         \n",
      "                                                                 \n",
      " hidden (Dense)              (None, 100)               78500     \n",
      "                                                                 \n",
      " dropout (Dropout)           (None, 100)               0         \n",
      "                                                                 \n",
      " output (Dense)              (None, 10)                1010      \n",
      "                                                                 \n",
      "=================================================================\n",
      "Total params: 79,510\n",
      "Trainable params: 79,510\n",
      "Non-trainable params: 0\n",
      "_________________________________________________________________\n"
     ]
    }
   ],
   "source": [
    "model = model_fn(keras.layers.Dropout(0.3))\n",
    "model.summary()"
   ]
  },
  {
   "cell_type": "code",
   "execution_count": 36,
   "metadata": {},
   "outputs": [
    {
     "name": "stdout",
     "output_type": "stream",
     "text": [
      "Epoch 1/20\n",
      "1500/1500 [==============================] - 4s 3ms/step - loss: 0.5890 - accuracy: 0.7939 - val_loss: 0.4357 - val_accuracy: 0.8447\n",
      "Epoch 2/20\n",
      "1500/1500 [==============================] - 3s 2ms/step - loss: 0.4482 - accuracy: 0.8417 - val_loss: 0.3986 - val_accuracy: 0.8590\n",
      "Epoch 3/20\n",
      "1500/1500 [==============================] - 4s 3ms/step - loss: 0.4257 - accuracy: 0.8512 - val_loss: 0.4048 - val_accuracy: 0.8612\n",
      "Epoch 4/20\n",
      "1500/1500 [==============================] - 4s 3ms/step - loss: 0.4101 - accuracy: 0.8576 - val_loss: 0.3970 - val_accuracy: 0.8626\n",
      "Epoch 5/20\n",
      "1500/1500 [==============================] - 5s 3ms/step - loss: 0.4025 - accuracy: 0.8620 - val_loss: 0.3783 - val_accuracy: 0.8747\n",
      "Epoch 6/20\n",
      "1500/1500 [==============================] - 4s 3ms/step - loss: 0.3988 - accuracy: 0.8661 - val_loss: 0.3847 - val_accuracy: 0.8714\n",
      "Epoch 7/20\n",
      "1500/1500 [==============================] - 4s 2ms/step - loss: 0.3910 - accuracy: 0.8667 - val_loss: 0.3882 - val_accuracy: 0.8787\n",
      "Epoch 8/20\n",
      "1500/1500 [==============================] - 3s 2ms/step - loss: 0.3895 - accuracy: 0.8697 - val_loss: 0.4123 - val_accuracy: 0.8707\n",
      "Epoch 9/20\n",
      "1500/1500 [==============================] - 3s 2ms/step - loss: 0.3894 - accuracy: 0.8716 - val_loss: 0.4098 - val_accuracy: 0.8767\n",
      "Epoch 10/20\n",
      "1500/1500 [==============================] - 4s 3ms/step - loss: 0.3876 - accuracy: 0.8714 - val_loss: 0.3987 - val_accuracy: 0.8736\n",
      "Epoch 11/20\n",
      "1500/1500 [==============================] - 4s 3ms/step - loss: 0.3820 - accuracy: 0.8722 - val_loss: 0.4117 - val_accuracy: 0.8763\n",
      "Epoch 12/20\n",
      "1500/1500 [==============================] - 4s 3ms/step - loss: 0.3780 - accuracy: 0.8764 - val_loss: 0.4128 - val_accuracy: 0.8745\n",
      "Epoch 13/20\n",
      "1500/1500 [==============================] - 4s 3ms/step - loss: 0.3820 - accuracy: 0.8758 - val_loss: 0.4387 - val_accuracy: 0.8706\n",
      "Epoch 14/20\n",
      "1500/1500 [==============================] - 4s 3ms/step - loss: 0.3815 - accuracy: 0.8772 - val_loss: 0.4183 - val_accuracy: 0.8760\n",
      "Epoch 15/20\n",
      "1500/1500 [==============================] - 4s 3ms/step - loss: 0.3774 - accuracy: 0.8802 - val_loss: 0.4532 - val_accuracy: 0.8733\n",
      "Epoch 16/20\n",
      "1500/1500 [==============================] - 4s 3ms/step - loss: 0.3778 - accuracy: 0.8788 - val_loss: 0.4502 - val_accuracy: 0.8736\n",
      "Epoch 17/20\n",
      "1500/1500 [==============================] - 4s 3ms/step - loss: 0.3791 - accuracy: 0.8793 - val_loss: 0.4443 - val_accuracy: 0.8795\n",
      "Epoch 18/20\n",
      "1500/1500 [==============================] - 4s 3ms/step - loss: 0.3730 - accuracy: 0.8809 - val_loss: 0.4462 - val_accuracy: 0.8785\n",
      "Epoch 19/20\n",
      "1500/1500 [==============================] - 4s 3ms/step - loss: 0.3756 - accuracy: 0.8815 - val_loss: 0.4464 - val_accuracy: 0.8786\n",
      "Epoch 20/20\n",
      "1500/1500 [==============================] - 4s 3ms/step - loss: 0.3691 - accuracy: 0.8836 - val_loss: 0.5009 - val_accuracy: 0.8801\n"
     ]
    }
   ],
   "source": [
    "model.compile(loss='sparse_categorical_crossentropy', metrics='accuracy')\n",
    "history = model.fit(train_scaled, train_target, epochs=20, validation_data=(val_scaled, val_target))"
   ]
  },
  {
   "cell_type": "code",
   "execution_count": 37,
   "metadata": {},
   "outputs": [
    {
     "data": {
      "image/png": "[encoded data removed]",
      "text/plain": [
       "<Figure size 720x360 with 1 Axes>"
      ]
     },
     "metadata": {
      "needs_background": "light"
     },
     "output_type": "display_data"
    }
   ],
   "source": [
    "plt.figure(figsize=(10,5))\n",
    "plt.plot(history.history['loss'])\n",
    "plt.plot(history.history['val_loss'])\n",
    "plt.title('손실곡선')\n",
    "plt.xlabel('에포크')\n",
    "plt.ylabel('손실값')\n",
    "plt.legend(['훈련', '검증'])\n",
    "plt.show()"
   ]
  },
  {
   "cell_type": "code",
   "execution_count": 38,
   "metadata": {},
   "outputs": [
    {
     "name": "stdout",
     "output_type": "stream",
     "text": [
      "Epoch 1/20\n",
      "1500/1500 [==============================] - 4s 2ms/step - loss: 0.3707 - accuracy: 0.8753 - val_loss: 0.3987 - val_accuracy: 0.8702\n",
      "Epoch 2/20\n",
      "1500/1500 [==============================] - 3s 2ms/step - loss: 0.3442 - accuracy: 0.8768 - val_loss: 0.3920 - val_accuracy: 0.8759\n",
      "Epoch 3/20\n",
      "1500/1500 [==============================] - 3s 2ms/step - loss: 0.3424 - accuracy: 0.8780 - val_loss: 0.3905 - val_accuracy: 0.8762\n",
      "Epoch 4/20\n",
      "1500/1500 [==============================] - 3s 2ms/step - loss: 0.3322 - accuracy: 0.8810 - val_loss: 0.4031 - val_accuracy: 0.8764\n",
      "Epoch 5/20\n",
      "1500/1500 [==============================] - 3s 2ms/step - loss: 0.3172 - accuracy: 0.8812 - val_loss: 0.3976 - val_accuracy: 0.8773\n",
      "Epoch 6/20\n",
      "1500/1500 [==============================] - 3s 2ms/step - loss: 0.3138 - accuracy: 0.8854 - val_loss: 0.3877 - val_accuracy: 0.8749\n",
      "Epoch 7/20\n",
      "1500/1500 [==============================] - 3s 2ms/step - loss: 0.3143 - accuracy: 0.8842 - val_loss: 0.3682 - val_accuracy: 0.8784\n",
      "Epoch 8/20\n",
      "1500/1500 [==============================] - 3s 2ms/step - loss: 0.3017 - accuracy: 0.8867 - val_loss: 0.3688 - val_accuracy: 0.8750\n",
      "Epoch 9/20\n",
      "1500/1500 [==============================] - 3s 2ms/step - loss: 0.2994 - accuracy: 0.8884 - val_loss: 0.3781 - val_accuracy: 0.8811\n",
      "Epoch 10/20\n",
      "1500/1500 [==============================] - 3s 2ms/step - loss: 0.2913 - accuracy: 0.8902 - val_loss: 0.3643 - val_accuracy: 0.8826\n",
      "Epoch 11/20\n",
      "1500/1500 [==============================] - 3s 2ms/step - loss: 0.2899 - accuracy: 0.8920 - val_loss: 0.3767 - val_accuracy: 0.8813\n",
      "Epoch 12/20\n",
      "1500/1500 [==============================] - 4s 2ms/step - loss: 0.2910 - accuracy: 0.8913 - val_loss: 0.3755 - val_accuracy: 0.8808\n",
      "Epoch 13/20\n",
      "1500/1500 [==============================] - 3s 2ms/step - loss: 0.2811 - accuracy: 0.8939 - val_loss: 0.3697 - val_accuracy: 0.8786\n",
      "Epoch 14/20\n",
      "1500/1500 [==============================] - 3s 2ms/step - loss: 0.2795 - accuracy: 0.8953 - val_loss: 0.3778 - val_accuracy: 0.8826\n",
      "Epoch 15/20\n",
      "1500/1500 [==============================] - 3s 2ms/step - loss: 0.2779 - accuracy: 0.8958 - val_loss: 0.3756 - val_accuracy: 0.8817\n",
      "Epoch 16/20\n",
      "1500/1500 [==============================] - 3s 2ms/step - loss: 0.2758 - accuracy: 0.8962 - val_loss: 0.3718 - val_accuracy: 0.8815\n",
      "Epoch 17/20\n",
      "1500/1500 [==============================] - 4s 2ms/step - loss: 0.2720 - accuracy: 0.8967 - val_loss: 0.3679 - val_accuracy: 0.8836\n",
      "Epoch 18/20\n",
      "1500/1500 [==============================] - 3s 2ms/step - loss: 0.2673 - accuracy: 0.8980 - val_loss: 0.3627 - val_accuracy: 0.8863\n",
      "Epoch 19/20\n",
      "1500/1500 [==============================] - 3s 2ms/step - loss: 0.2666 - accuracy: 0.9001 - val_loss: 0.3656 - val_accuracy: 0.8852\n",
      "Epoch 20/20\n",
      "1500/1500 [==============================] - 3s 2ms/step - loss: 0.2612 - accuracy: 0.8993 - val_loss: 0.3894 - val_accuracy: 0.8813\n"
     ]
    }
   ],
   "source": [
    "model.compile(loss='sparse_categorical_crossentropy', metrics='accuracy', optimizer='adam')\n",
    "history = model.fit(train_scaled, train_target, epochs=20, validation_data=(val_scaled, val_target))"
   ]
  },
  {
   "cell_type": "markdown",
   "metadata": {},
   "source": [
    "#### 모델 저장 / 로드"
   ]
  },
  {
   "cell_type": "code",
   "execution_count": 39,
   "metadata": {},
   "outputs": [
    {
     "name": "stdout",
     "output_type": "stream",
     "text": [
      "Model: \"model_fn_MakeModel\"\n",
      "_________________________________________________________________\n",
      " Layer (type)                Output Shape              Param #   \n",
      "=================================================================\n",
      " flatten_9 (Flatten)         (None, 784)               0         \n",
      "                                                                 \n",
      " hidden (Dense)              (None, 100)               78500     \n",
      "                                                                 \n",
      " dropout (Dropout)           (None, 100)               0         \n",
      "                                                                 \n",
      " output (Dense)              (None, 10)                1010      \n",
      "                                                                 \n",
      "=================================================================\n",
      "Total params: 79,510\n",
      "Trainable params: 79,510\n",
      "Non-trainable params: 0\n",
      "_________________________________________________________________\n"
     ]
    }
   ],
   "source": [
    "model.summary()"
   ]
  },
  {
   "cell_type": "code",
   "execution_count": 40,
   "metadata": {},
   "outputs": [],
   "source": [
    "# 훈련된 가중치만 저장\n",
    "model.save_weights('./data/model-weights.h5')"
   ]
  },
  {
   "cell_type": "code",
   "execution_count": 41,
   "metadata": {},
   "outputs": [],
   "source": [
    "# 훈련된 전체 데이터 저장\n",
    "model.save('./data/model.h5')"
   ]
  },
  {
   "cell_type": "markdown",
   "metadata": {},
   "source": [
    "##### 가중치 모델 로드"
   ]
  },
  {
   "cell_type": "code",
   "execution_count": 42,
   "metadata": {},
   "outputs": [],
   "source": [
    "model = model_fn(keras.layers.Dropout(0.3))\n",
    "model.load_weights('./data/model-weights.h5')"
   ]
  },
  {
   "cell_type": "code",
   "execution_count": 43,
   "metadata": {},
   "outputs": [
    {
     "ename": "RuntimeError",
     "evalue": "You must compile your model before training/testing. Use `model.compile(optimizer, loss)`.",
     "output_type": "error",
     "traceback": [
      "\u001b[1;31m---------------------------------------------------------------------------\u001b[0m",
      "\u001b[1;31mRuntimeError\u001b[0m                              Traceback (most recent call last)",
      "\u001b[1;32mc:\\localRepository\\StudyML\\day05\\07_3_신경망모델훈련.ipynb 셀 43\u001b[0m in \u001b[0;36m<cell line: 1>\u001b[1;34m()\u001b[0m\n\u001b[1;32m----> <a href='vscode-notebook-cell:/c%3A/localRepository/StudyML/day05/07_3_%EC%8B%A0%EA%B2%BD%EB%A7%9D%EB%AA%A8%EB%8D%B8%ED%9B%88%EB%A0%A8.ipynb#Y111sZmlsZQ%3D%3D?line=0'>1</a>\u001b[0m model\u001b[39m.\u001b[39;49mevaluate(val_scaled, val_target)\n",
      "File \u001b[1;32m~\\AppData\\Local\\Packages\\PythonSoftwareFoundation.Python.3.10_qbz5n2kfra8p0\\LocalCache\\local-packages\\Python310\\site-packages\\keras\\utils\\traceback_utils.py:67\u001b[0m, in \u001b[0;36mfilter_traceback.<locals>.error_handler\u001b[1;34m(*args, **kwargs)\u001b[0m\n\u001b[0;32m     65\u001b[0m \u001b[39mexcept\u001b[39;00m \u001b[39mException\u001b[39;00m \u001b[39mas\u001b[39;00m e:  \u001b[39m# pylint: disable=broad-except\u001b[39;00m\n\u001b[0;32m     66\u001b[0m   filtered_tb \u001b[39m=\u001b[39m _process_traceback_frames(e\u001b[39m.\u001b[39m__traceback__)\n\u001b[1;32m---> 67\u001b[0m   \u001b[39mraise\u001b[39;00m e\u001b[39m.\u001b[39mwith_traceback(filtered_tb) \u001b[39mfrom\u001b[39;00m \u001b[39mNone\u001b[39m\n\u001b[0;32m     68\u001b[0m \u001b[39mfinally\u001b[39;00m:\n\u001b[0;32m     69\u001b[0m   \u001b[39mdel\u001b[39;00m filtered_tb\n",
      "File \u001b[1;32m~\\AppData\\Local\\Packages\\PythonSoftwareFoundation.Python.3.10_qbz5n2kfra8p0\\LocalCache\\local-packages\\Python310\\site-packages\\keras\\engine\\training.py:3160\u001b[0m, in \u001b[0;36mModel._assert_compile_was_called\u001b[1;34m(self)\u001b[0m\n\u001b[0;32m   3154\u001b[0m \u001b[39mdef\u001b[39;00m \u001b[39m_assert_compile_was_called\u001b[39m(\u001b[39mself\u001b[39m):\n\u001b[0;32m   3155\u001b[0m   \u001b[39m# Checks whether `compile` has been called. If it has been called,\u001b[39;00m\n\u001b[0;32m   3156\u001b[0m   \u001b[39m# then the optimizer is set. This is different from whether the\u001b[39;00m\n\u001b[0;32m   3157\u001b[0m   \u001b[39m# model is compiled\u001b[39;00m\n\u001b[0;32m   3158\u001b[0m   \u001b[39m# (i.e. whether the model is built and its inputs/outputs are set).\u001b[39;00m\n\u001b[0;32m   3159\u001b[0m   \u001b[39mif\u001b[39;00m \u001b[39mnot\u001b[39;00m \u001b[39mself\u001b[39m\u001b[39m.\u001b[39m_is_compiled:\n\u001b[1;32m-> 3160\u001b[0m     \u001b[39mraise\u001b[39;00m \u001b[39mRuntimeError\u001b[39;00m(\u001b[39m'\u001b[39m\u001b[39mYou must compile your model before \u001b[39m\u001b[39m'\u001b[39m\n\u001b[0;32m   3161\u001b[0m                        \u001b[39m'\u001b[39m\u001b[39mtraining/testing. \u001b[39m\u001b[39m'\u001b[39m\n\u001b[0;32m   3162\u001b[0m                        \u001b[39m'\u001b[39m\u001b[39mUse `model.compile(optimizer, loss)`.\u001b[39m\u001b[39m'\u001b[39m)\n",
      "\u001b[1;31mRuntimeError\u001b[0m: You must compile your model before training/testing. Use `model.compile(optimizer, loss)`."
     ]
    }
   ],
   "source": [
    "# 가중치만 불러왔기때문에 오류가 남\n",
    "model.evaluate(val_scaled, val_target)"
   ]
  },
  {
   "cell_type": "markdown",
   "metadata": {},
   "source": [
    "##### 전체모델 로드"
   ]
  },
  {
   "cell_type": "code",
   "execution_count": 44,
   "metadata": {},
   "outputs": [
    {
     "name": "stdout",
     "output_type": "stream",
     "text": [
      "375/375 [==============================] - 1s 1ms/step - loss: 0.3894 - accuracy: 0.8813\n"
     ]
    },
    {
     "data": {
      "text/plain": [
       "[0.3893616795539856, 0.8813333511352539]"
      ]
     },
     "execution_count": 44,
     "metadata": {},
     "output_type": "execute_result"
    }
   ],
   "source": [
    "model = keras.models.load_model('./data/model.h5')\n",
    "model.evaluate(val_scaled, val_target)"
   ]
  },
  {
   "cell_type": "markdown",
   "metadata": {},
   "source": [
    "가중치만 저장하면 모델 기능 제약있음, 훈련된 모델의 전체 데이터를 저장하면 모든 기능 수행 가능"
   ]
  },
  {
   "cell_type": "code",
   "execution_count": 45,
   "metadata": {},
   "outputs": [
    {
     "name": "stdout",
     "output_type": "stream",
     "text": [
      "375/375 [==============================] - 0s 929us/step\n"
     ]
    },
    {
     "data": {
      "text/plain": [
       "array([[1.05671480e-29, 0.00000000e+00, 4.25568352e-34, ...,\n",
       "        1.22803656e-17, 1.00000000e+00, 3.33028991e-24],\n",
       "       [1.88058785e-22, 0.00000000e+00, 1.78088106e-34, ...,\n",
       "        3.93766508e-27, 1.00000000e+00, 1.03698184e-18],\n",
       "       [4.65405489e-34, 5.47589177e-35, 0.00000000e+00, ...,\n",
       "        9.99998331e-01, 3.61121852e-21, 1.44998955e-17],\n",
       "       ...,\n",
       "       [1.74944464e-17, 0.00000000e+00, 1.87683599e-26, ...,\n",
       "        1.04071141e-17, 1.00000000e+00, 9.92536436e-15],\n",
       "       [9.77751638e-17, 0.00000000e+00, 1.35013173e-21, ...,\n",
       "        2.53141986e-21, 1.00000000e+00, 2.25639758e-24],\n",
       "       [1.42237470e-02, 3.80705378e-09, 1.06672529e-08, ...,\n",
       "        5.99312247e-04, 3.42910766e-06, 9.83636320e-01]], dtype=float32)"
      ]
     },
     "execution_count": 45,
     "metadata": {},
     "output_type": "execute_result"
    }
   ],
   "source": [
    "model.predict(val_scaled)"
   ]
  },
  {
   "cell_type": "code",
   "execution_count": 46,
   "metadata": {},
   "outputs": [
    {
     "name": "stdout",
     "output_type": "stream",
     "text": [
      "375/375 [==============================] - 0s 1ms/step\n"
     ]
    },
    {
     "data": {
      "text/plain": [
       "0.8813333333333333"
      ]
     },
     "execution_count": 46,
     "metadata": {},
     "output_type": "execute_result"
    }
   ],
   "source": [
    "# 예측결과\n",
    "val_labels = np.argmax(model.predict(val_scaled), axis=1)\n",
    "np.mean(val_labels == val_target)"
   ]
  },
  {
   "cell_type": "code",
   "execution_count": 48,
   "metadata": {},
   "outputs": [
    {
     "data": {
      "text/plain": [
       "array([8, 8, 7, ..., 8, 8, 9], dtype=int64)"
      ]
     },
     "execution_count": 48,
     "metadata": {},
     "output_type": "execute_result"
    }
   ],
   "source": [
    "val_labels"
   ]
  },
  {
   "cell_type": "markdown",
   "metadata": {},
   "source": [
    "#### 콜백 Callback"
   ]
  },
  {
   "cell_type": "code",
   "execution_count": 49,
   "metadata": {},
   "outputs": [
    {
     "name": "stdout",
     "output_type": "stream",
     "text": [
      "Epoch 1/20\n",
      "1500/1500 [==============================] - 3s 2ms/step - loss: 0.5894 - accuracy: 0.7928 - val_loss: 0.4341 - val_accuracy: 0.8467\n",
      "Epoch 2/20\n",
      "1500/1500 [==============================] - 3s 2ms/step - loss: 0.4412 - accuracy: 0.8421 - val_loss: 0.3876 - val_accuracy: 0.8589\n",
      "Epoch 3/20\n",
      "1500/1500 [==============================] - 3s 2ms/step - loss: 0.4078 - accuracy: 0.8536 - val_loss: 0.3701 - val_accuracy: 0.8650\n",
      "Epoch 4/20\n",
      "1500/1500 [==============================] - 3s 2ms/step - loss: 0.3827 - accuracy: 0.8606 - val_loss: 0.3777 - val_accuracy: 0.8569\n",
      "Epoch 5/20\n",
      "1500/1500 [==============================] - 3s 2ms/step - loss: 0.3656 - accuracy: 0.8666 - val_loss: 0.3438 - val_accuracy: 0.8751\n",
      "Epoch 6/20\n",
      "1500/1500 [==============================] - 3s 2ms/step - loss: 0.3529 - accuracy: 0.8710 - val_loss: 0.3407 - val_accuracy: 0.8758\n",
      "Epoch 7/20\n",
      "1500/1500 [==============================] - 3s 2ms/step - loss: 0.3463 - accuracy: 0.8731 - val_loss: 0.3482 - val_accuracy: 0.8738\n",
      "Epoch 8/20\n",
      "1500/1500 [==============================] - 3s 2ms/step - loss: 0.3360 - accuracy: 0.8757 - val_loss: 0.3294 - val_accuracy: 0.8813\n",
      "Epoch 9/20\n",
      "1500/1500 [==============================] - 3s 2ms/step - loss: 0.3320 - accuracy: 0.8777 - val_loss: 0.3270 - val_accuracy: 0.8783\n",
      "Epoch 10/20\n",
      "1500/1500 [==============================] - 3s 2ms/step - loss: 0.3221 - accuracy: 0.8811 - val_loss: 0.3228 - val_accuracy: 0.8826\n",
      "Epoch 11/20\n",
      "1500/1500 [==============================] - 3s 2ms/step - loss: 0.3173 - accuracy: 0.8812 - val_loss: 0.3342 - val_accuracy: 0.8784\n",
      "Epoch 12/20\n",
      "1500/1500 [==============================] - 4s 3ms/step - loss: 0.3145 - accuracy: 0.8837 - val_loss: 0.3270 - val_accuracy: 0.8816\n",
      "Epoch 13/20\n",
      "1500/1500 [==============================] - 4s 2ms/step - loss: 0.3065 - accuracy: 0.8854 - val_loss: 0.3210 - val_accuracy: 0.8835\n",
      "Epoch 14/20\n",
      "1500/1500 [==============================] - 4s 2ms/step - loss: 0.3021 - accuracy: 0.8870 - val_loss: 0.3199 - val_accuracy: 0.8851\n",
      "Epoch 15/20\n",
      "1500/1500 [==============================] - 4s 2ms/step - loss: 0.2968 - accuracy: 0.8888 - val_loss: 0.3250 - val_accuracy: 0.8851\n",
      "Epoch 16/20\n",
      "1500/1500 [==============================] - 4s 2ms/step - loss: 0.2936 - accuracy: 0.8890 - val_loss: 0.3283 - val_accuracy: 0.8863\n",
      "Epoch 17/20\n",
      "1500/1500 [==============================] - 4s 2ms/step - loss: 0.2897 - accuracy: 0.8901 - val_loss: 0.3227 - val_accuracy: 0.8863\n",
      "Epoch 18/20\n",
      "1500/1500 [==============================] - 4s 2ms/step - loss: 0.2845 - accuracy: 0.8916 - val_loss: 0.3271 - val_accuracy: 0.8847\n",
      "Epoch 19/20\n",
      "1500/1500 [==============================] - 4s 3ms/step - loss: 0.2826 - accuracy: 0.8932 - val_loss: 0.3205 - val_accuracy: 0.8858\n",
      "Epoch 20/20\n",
      "1500/1500 [==============================] - 4s 2ms/step - loss: 0.2761 - accuracy: 0.8962 - val_loss: 0.3360 - val_accuracy: 0.8818\n"
     ]
    },
    {
     "data": {
      "text/plain": [
       "<keras.callbacks.History at 0x15810e66fb0>"
      ]
     },
     "execution_count": 49,
     "metadata": {},
     "output_type": "execute_result"
    }
   ],
   "source": [
    "model = model_fn(keras.layers.Dropout(0.3))\n",
    "model.compile(loss='sparse_categorical_crossentropy', metrics='accuracy', optimizer='adam')\n",
    "\n",
    "# 베스트 모델을 저장할 콜백\n",
    "checkpoint_cb = keras.callbacks.ModelCheckpoint('./data/best_model.h5')\n",
    "model.fit(train_scaled, train_target, epochs=20, verbose=1, validation_data=(val_scaled, val_target), callbacks=[checkpoint_cb])"
   ]
  },
  {
   "cell_type": "code",
   "execution_count": 50,
   "metadata": {},
   "outputs": [
    {
     "name": "stdout",
     "output_type": "stream",
     "text": [
      "375/375 [==============================] - 1s 1ms/step - loss: 0.3360 - accuracy: 0.8818\n"
     ]
    },
    {
     "data": {
      "text/plain": [
       "[0.3360423445701599, 0.8818333148956299]"
      ]
     },
     "execution_count": 50,
     "metadata": {},
     "output_type": "execute_result"
    }
   ],
   "source": [
    "# 체크포인트 확인\n",
    "model = keras.models.load_model('./data/best_model.h5')\n",
    "model.evaluate(val_scaled, val_target)"
   ]
  },
  {
   "cell_type": "markdown",
   "metadata": {},
   "source": [
    "#### 조기종료"
   ]
  },
  {
   "cell_type": "code",
   "execution_count": 67,
   "metadata": {},
   "outputs": [
    {
     "name": "stdout",
     "output_type": "stream",
     "text": [
      "Epoch 1/20\n",
      "1493/1500 [============================>.] - ETA: 0s - loss: 0.5891 - accuracy: 0.7906\n",
      "Epoch 1: val_loss improved from inf to 0.43649, saving model to ./data\\best_mode2.h5\n",
      "1500/1500 [==============================] - 4s 2ms/step - loss: 0.5885 - accuracy: 0.7907 - val_loss: 0.4365 - val_accuracy: 0.8412\n",
      "Epoch 2/20\n",
      "1490/1500 [============================>.] - ETA: 0s - loss: 0.4421 - accuracy: 0.8396\n",
      "Epoch 2: val_loss improved from 0.43649 to 0.38357, saving model to ./data\\best_mode2.h5\n",
      "1500/1500 [==============================] - 3s 2ms/step - loss: 0.4427 - accuracy: 0.8393 - val_loss: 0.3836 - val_accuracy: 0.8582\n",
      "Epoch 3/20\n",
      "1483/1500 [============================>.] - ETA: 0s - loss: 0.4078 - accuracy: 0.8526\n",
      "Epoch 3: val_loss improved from 0.38357 to 0.37074, saving model to ./data\\best_mode2.h5\n",
      "1500/1500 [==============================] - 3s 2ms/step - loss: 0.4074 - accuracy: 0.8526 - val_loss: 0.3707 - val_accuracy: 0.8647\n",
      "Epoch 4/20\n",
      "1500/1500 [==============================] - ETA: 0s - loss: 0.3875 - accuracy: 0.8577\n",
      "Epoch 4: val_loss improved from 0.37074 to 0.35678, saving model to ./data\\best_mode2.h5\n",
      "1500/1500 [==============================] - 3s 2ms/step - loss: 0.3875 - accuracy: 0.8577 - val_loss: 0.3568 - val_accuracy: 0.8705\n",
      "Epoch 5/20\n",
      "1483/1500 [============================>.] - ETA: 0s - loss: 0.3725 - accuracy: 0.8638\n",
      "Epoch 5: val_loss improved from 0.35678 to 0.34770, saving model to ./data\\best_mode2.h5\n",
      "1500/1500 [==============================] - 3s 2ms/step - loss: 0.3722 - accuracy: 0.8637 - val_loss: 0.3477 - val_accuracy: 0.8712\n",
      "Epoch 6/20\n",
      "1475/1500 [============================>.] - ETA: 0s - loss: 0.3591 - accuracy: 0.8681\n",
      "Epoch 6: val_loss did not improve from 0.34770\n",
      "1500/1500 [==============================] - 3s 2ms/step - loss: 0.3588 - accuracy: 0.8682 - val_loss: 0.3481 - val_accuracy: 0.8734\n",
      "Epoch 7/20\n",
      "1498/1500 [============================>.] - ETA: 0s - loss: 0.3485 - accuracy: 0.8720\n",
      "Epoch 7: val_loss improved from 0.34770 to 0.34433, saving model to ./data\\best_mode2.h5\n",
      "1500/1500 [==============================] - 3s 2ms/step - loss: 0.3484 - accuracy: 0.8721 - val_loss: 0.3443 - val_accuracy: 0.8728\n",
      "Epoch 8/20\n",
      "1480/1500 [============================>.] - ETA: 0s - loss: 0.3408 - accuracy: 0.8741\n",
      "Epoch 8: val_loss improved from 0.34433 to 0.33008, saving model to ./data\\best_mode2.h5\n",
      "1500/1500 [==============================] - 3s 2ms/step - loss: 0.3414 - accuracy: 0.8740 - val_loss: 0.3301 - val_accuracy: 0.8796\n",
      "Epoch 9/20\n",
      "1492/1500 [============================>.] - ETA: 0s - loss: 0.3319 - accuracy: 0.8792\n",
      "Epoch 9: val_loss did not improve from 0.33008\n",
      "1500/1500 [==============================] - 3s 2ms/step - loss: 0.3319 - accuracy: 0.8791 - val_loss: 0.3344 - val_accuracy: 0.8784\n",
      "Epoch 10/20\n",
      "1484/1500 [============================>.] - ETA: 0s - loss: 0.3271 - accuracy: 0.8783\n",
      "Epoch 10: val_loss did not improve from 0.33008\n",
      "1500/1500 [==============================] - 3s 2ms/step - loss: 0.3267 - accuracy: 0.8784 - val_loss: 0.3305 - val_accuracy: 0.8775\n"
     ]
    }
   ],
   "source": [
    "model = model_fn(keras.layers.Dropout(0.3))\n",
    "model.compile(loss='sparse_categorical_crossentropy', metrics='accuracy', optimizer='adam')\n",
    "\n",
    "# 베스트 모델을 저장할 콜백\n",
    "# save_best_only=True이 지정되어야지 가장 좋은 모델이 저장됨\n",
    "checkpoint_cb = keras.callbacks.ModelCheckpoint('./data/best_mode2.h5', save_best_only=True, verbose=1)\n",
    "early_stopping_cb = keras.callbacks.EarlyStopping(patience=2, restore_best_weights=True)  # patience 손실값이 올라갈때 몇번참아줄건지 설정한 횟수가 지나면 조기종료시키기\n",
    "history = model.fit(train_scaled, train_target, epochs=20, verbose=1, validation_data=(val_scaled, val_target), callbacks=[checkpoint_cb, early_stopping_cb])"
   ]
  },
  {
   "cell_type": "code",
   "execution_count": 68,
   "metadata": {},
   "outputs": [
    {
     "data": {
      "image/png": "[encoded data removed]",
      "text/plain": [
       "<Figure size 720x360 with 1 Axes>"
      ]
     },
     "metadata": {
      "needs_background": "light"
     },
     "output_type": "display_data"
    }
   ],
   "source": [
    "plt.figure(figsize=(10,5))\n",
    "plt.plot(history.history['loss'])\n",
    "plt.plot(history.history['val_loss'])\n",
    "plt.title('손실곡선')\n",
    "plt.xlabel('에포크')\n",
    "plt.ylabel('손실값')\n",
    "plt.legend(['훈련', '검증'])\n",
    "plt.show()"
   ]
  },
  {
   "cell_type": "code",
   "execution_count": 69,
   "metadata": {},
   "outputs": [
    {
     "data": {
      "text/plain": [
       "9"
      ]
     },
     "execution_count": 69,
     "metadata": {},
     "output_type": "execute_result"
    }
   ],
   "source": [
    "# 어느 에포크에서 조기종료했는지 확인\n",
    "early_stopping_cb.stopped_epoch  # 9번째에서 멈춤(드랍아웃) - 8번째 모델이 저장됨"
   ]
  },
  {
   "cell_type": "code",
   "execution_count": 70,
   "metadata": {},
   "outputs": [
    {
     "name": "stdout",
     "output_type": "stream",
     "text": [
      "375/375 [==============================] - 1s 2ms/step - loss: 0.3301 - accuracy: 0.8796\n"
     ]
    },
    {
     "data": {
      "text/plain": [
       "[0.3300785422325134, 0.8795833587646484]"
      ]
     },
     "execution_count": 70,
     "metadata": {},
     "output_type": "execute_result"
    }
   ],
   "source": [
    "model.evaluate(val_scaled, val_target)  # 8번째 에포크값"
   ]
  },
  {
   "cell_type": "markdown",
   "metadata": {},
   "source": [
    "### 조기종료된 모델 저장값 / 체크포인트로 저장된 모델 저장값 비교"
   ]
  },
  {
   "cell_type": "code",
   "execution_count": 71,
   "metadata": {},
   "outputs": [
    {
     "name": "stdout",
     "output_type": "stream",
     "text": [
      "375/375 [==============================] - 1s 1ms/step - loss: 0.3301 - accuracy: 0.8796\n"
     ]
    },
    {
     "data": {
      "text/plain": [
       "[0.3300785422325134, 0.8795833587646484]"
      ]
     },
     "execution_count": 71,
     "metadata": {},
     "output_type": "execute_result"
    }
   ],
   "source": [
    "model_cp = keras.models.load_model('./data/best_mode2.h5')\n",
    "model_cp.evaluate(val_scaled, val_target)"
   ]
  }
 ],
 "metadata": {
  "kernelspec": {
   "display_name": "Python 3.10.6 64-bit (windows store)",
   "language": "python",
   "name": "python3"
  },
  "language_info": {
   "codemirror_mode": {
    "name": "ipython",
    "version": 3
   },
   "file_extension": ".py",
   "mimetype": "text/x-python",
   "name": "python",
   "nbconvert_exporter": "python",
   "pygments_lexer": "ipython3",
   "version": "3.10.6"
  },
  "orig_nbformat": 4,
  "vscode": {
   "interpreter": {
    "hash": "8bf0d51478355d2251941b3b98616086516a0eddd7c72ee47a3371765770709a"
   }
  }
 },
 "nbformat": 4,
 "nbformat_minor": 2
}
